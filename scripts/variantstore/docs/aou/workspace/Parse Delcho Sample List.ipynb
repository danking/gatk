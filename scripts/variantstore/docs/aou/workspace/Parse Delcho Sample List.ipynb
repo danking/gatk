{
 "cells": [
  {
   "cell_type": "markdown",
   "metadata": {},
   "source": [
    "# Run Script to generate fuller (380K) set of samples for Echo Scale Test"
   ]
  },
  {
   "cell_type": "markdown",
   "metadata": {},
   "source": [
    "Run a simple python script to generate the 'fuller' set of samples:\n",
    "\n",
    "(From Lee's email)\n",
    ">The below file includes the 322k mentioned above, but also includes samples that should not be included in a release for a multitude of reasons:\n",
    "gs://fc-secure-69d71149-7f02-4dec-a16b-049ec77f305a/manifests_delcho_v1/wgs_all_terra_delcho_v1_Oct042023_1420_10_tz0000.tsv\n",
    "\n",
    ">In this file, there are filter columns (flt_*).  If a sample is False in all of those columns, it is included in the set of 322k.  If a sample is False in all of the filter columns, except True in `flt_is_missing_from_cdr`, then it is likely going to be in v8, but is not in the 322k above (N=~60k).  However, you will need to extract this updated list yourself by ignoring the `flt_is_missing_from_cdr` column and identifying samples that are False in all of the remaining filter columns.  I am not providing this.\n"
   ]
  },
  {
   "cell_type": "code",
   "execution_count": 1,
   "metadata": {},
   "outputs": [
    {
     "name": "stdout",
     "output_type": "stream",
     "text": [
      "Copying gs://fc-secure-69d71149-7f02-4dec-a16b-049ec77f305a/manifests_delcho_v1/wgs_all_terra_delcho_v1_Oct042023_1420_10_tz0000.tsv...\n",
      "| [1 files][ 92.2 MiB/ 92.2 MiB]                                                \n",
      "Operation completed over 1 objects/92.2 MiB.                                     \n",
      "Copying gs://fc-secure-4c3976f3-d84d-4243-876f-baa9f9a4256f/parse_delcho_sample_tsv.py...\n",
      "/ [1 files][  1.5 KiB/  1.5 KiB]                                                \n",
      "Operation completed over 1 objects/1.5 KiB.                                      \n"
     ]
    }
   ],
   "source": [
    "!gsutil cp gs://fc-secure-69d71149-7f02-4dec-a16b-049ec77f305a/manifests_delcho_v1/wgs_all_terra_delcho_v1_Oct042023_1420_10_tz0000.tsv .\n",
    "!gsutil cp gs://fc-secure-4c3976f3-d84d-4243-876f-baa9f9a4256f/parse_delcho_sample_tsv.py .    "
   ]
  },
  {
   "cell_type": "code",
   "execution_count": 5,
   "metadata": {},
   "outputs": [
    {
     "name": "stderr",
     "output_type": "stream",
     "text": [
      "Parsing: wgs_all_terra_delcho_v1_Oct042023_1420_10_tz0000.tsv\n"
     ]
    }
   ],
   "source": [
    "%run parse_delcho_sample_tsv.py --input wgs_all_terra_delcho_v1_Oct042023_1420_10_tz0000.tsv --output wgs_pass_qc_terra_filtered_except_is_missing_from_cdr_delcho_v1_Oct042023_1420_10_tz0000.tsv"
   ]
  },
  {
   "cell_type": "code",
   "execution_count": 6,
   "metadata": {},
   "outputs": [
    {
     "name": "stdout",
     "output_type": "stream",
     "text": [
      "382797 wgs_all_terra_delcho_v1_Oct042023_1420_10_tz0000.tsv\r\n"
     ]
    }
   ],
   "source": [
    "!wc -l wgs_all_terra_delcho_v1_Oct042023_1420_10_tz0000.tsv"
   ]
  },
  {
   "cell_type": "code",
   "execution_count": 7,
   "metadata": {},
   "outputs": [
    {
     "name": "stdout",
     "output_type": "stream",
     "text": [
      "382517 wgs_pass_qc_terra_filtered_except_is_missing_from_cdr_delcho_v1_Oct042023_1420_10_tz0000.tsv\r\n"
     ]
    }
   ],
   "source": [
    "!wc -l wgs_pass_qc_terra_filtered_except_is_missing_from_cdr_delcho_v1_Oct042023_1420_10_tz0000.tsv"
   ]
  },
  {
   "cell_type": "code",
   "execution_count": 8,
   "metadata": {},
   "outputs": [
    {
     "name": "stdout",
     "output_type": "stream",
     "text": [
      "Copying file://wgs_pass_qc_terra_filtered_except_is_missing_from_cdr_delcho_v1_Oct042023_1420_10_tz0000.tsv [Content-Type=text/tab-separated-values]...\n",
      "\\ [1 files][ 92.2 MiB/ 92.2 MiB]                                                \n",
      "Operation completed over 1 objects/92.2 MiB.                                     \n"
     ]
    }
   ],
   "source": [
    "!gsutil cp wgs_pass_qc_terra_filtered_except_is_missing_from_cdr_delcho_v1_Oct042023_1420_10_tz0000.tsv gs://fc-secure-4c3976f3-d84d-4243-876f-baa9f9a4256f/"
   ]
  },
  {
   "cell_type": "code",
   "execution_count": null,
   "metadata": {},
   "outputs": [],
   "source": []
  }
 ],
 "metadata": {
  "kernelspec": {
   "display_name": "Python 3",
   "language": "python",
   "name": "python3"
  },
  "language_info": {
   "codemirror_mode": {
    "name": "ipython",
    "version": 3
   },
   "file_extension": ".py",
   "mimetype": "text/x-python",
   "name": "python",
   "nbconvert_exporter": "python",
   "pygments_lexer": "ipython3",
   "version": "3.10.12"
  },
  "toc": {
   "base_numbering": 1,
   "nav_menu": {},
   "number_sections": true,
   "sideBar": true,
   "skip_h1_title": false,
   "title_cell": "Table of Contents",
   "title_sidebar": "Contents",
   "toc_cell": false,
   "toc_position": {},
   "toc_section_display": true,
   "toc_window_display": false
  }
 },
 "nbformat": 4,
 "nbformat_minor": 2
}
